{
 "cells": [
  {
   "cell_type": "code",
   "execution_count": 29,
   "metadata": {},
   "outputs": [],
   "source": [
    "import pandas as pd\n",
    "import matplotlib.pyplot as plt"
   ]
  },
  {
   "cell_type": "code",
   "execution_count": 30,
   "metadata": {},
   "outputs": [],
   "source": [
    "orders = pd.read_csv('../data/Orders.csv')\n",
    "returns = pd.read_csv('../data/Returns.csv')"
   ]
  },
  {
   "cell_type": "code",
   "execution_count": 31,
   "metadata": {},
   "outputs": [
    {
     "data": {
      "text/plain": [
       "Index(['Row.ID', 'Order.ID', 'Order.Date', 'Ship.Date', 'Ship.Mode',\n",
       "       'Customer.ID', 'Customer.Name', 'Segment', 'Postal.Code', 'City',\n",
       "       'State', 'Country', 'Region', 'Market', 'Product.ID', 'Category',\n",
       "       'Sub.Category', 'Product.Name', 'Sales', 'Quantity', 'Discount',\n",
       "       'Profit', 'Shipping.Cost', 'Order.Priority'],\n",
       "      dtype='object')"
      ]
     },
     "execution_count": 31,
     "metadata": {},
     "output_type": "execute_result"
    }
   ],
   "source": [
    "orders.columns"
   ]
  },
  {
   "cell_type": "markdown",
   "metadata": {},
   "source": [
    "Clean the Sales & Profit Columns by removing $ and thousand separators; then convert to float type."
   ]
  },
  {
   "cell_type": "code",
   "execution_count": 32,
   "metadata": {},
   "outputs": [],
   "source": [
    "orders['Sales']=[x.replace('$', '') for x in orders['Sales']]"
   ]
  },
  {
   "cell_type": "code",
   "execution_count": 33,
   "metadata": {},
   "outputs": [],
   "source": [
    "orders['Sales']=[x.replace(',', '') for x in orders['Sales']]"
   ]
  },
  {
   "cell_type": "code",
   "execution_count": 34,
   "metadata": {},
   "outputs": [],
   "source": [
    "orders['Profit']=[x.replace('$', '') for x in orders['Profit']]"
   ]
  },
  {
   "cell_type": "code",
   "execution_count": 35,
   "metadata": {},
   "outputs": [],
   "source": [
    "orders['Profit']=[x.replace(',', '') for x in orders['Profit']]"
   ]
  },
  {
   "cell_type": "code",
   "execution_count": 36,
   "metadata": {},
   "outputs": [],
   "source": [
    "orders['Sales'] = orders['Sales'].astype(float)\n",
    "orders['Profit'] = orders['Profit'].astype(float)"
   ]
  },
  {
   "cell_type": "markdown",
   "metadata": {},
   "source": [
    "Convert Order.Date to a Pandas Datetime variable"
   ]
  },
  {
   "cell_type": "code",
   "execution_count": 37,
   "metadata": {},
   "outputs": [],
   "source": [
    "orders['Order.Date'] = pd.to_datetime(orders['Order.Date'])"
   ]
  },
  {
   "cell_type": "code",
   "execution_count": 38,
   "metadata": {},
   "outputs": [
    {
     "data": {
      "text/html": [
       "<div>\n",
       "<style scoped>\n",
       "    .dataframe tbody tr th:only-of-type {\n",
       "        vertical-align: middle;\n",
       "    }\n",
       "\n",
       "    .dataframe tbody tr th {\n",
       "        vertical-align: top;\n",
       "    }\n",
       "\n",
       "    .dataframe thead th {\n",
       "        text-align: right;\n",
       "    }\n",
       "</style>\n",
       "<table border=\"1\" class=\"dataframe\">\n",
       "  <thead>\n",
       "    <tr style=\"text-align: right;\">\n",
       "      <th></th>\n",
       "      <th>Row.ID</th>\n",
       "      <th>Order.ID</th>\n",
       "      <th>Order.Date</th>\n",
       "      <th>Ship.Date</th>\n",
       "      <th>Ship.Mode</th>\n",
       "      <th>Customer.ID</th>\n",
       "      <th>Customer.Name</th>\n",
       "      <th>Segment</th>\n",
       "      <th>Postal.Code</th>\n",
       "      <th>City</th>\n",
       "      <th>...</th>\n",
       "      <th>Product.ID</th>\n",
       "      <th>Category</th>\n",
       "      <th>Sub.Category</th>\n",
       "      <th>Product.Name</th>\n",
       "      <th>Sales</th>\n",
       "      <th>Quantity</th>\n",
       "      <th>Discount</th>\n",
       "      <th>Profit</th>\n",
       "      <th>Shipping.Cost</th>\n",
       "      <th>Order.Priority</th>\n",
       "    </tr>\n",
       "  </thead>\n",
       "  <tbody>\n",
       "    <tr>\n",
       "      <th>0</th>\n",
       "      <td>40098</td>\n",
       "      <td>CA-2014-AB10015140-41954</td>\n",
       "      <td>2014-11-11</td>\n",
       "      <td>11/13/14</td>\n",
       "      <td>First Class</td>\n",
       "      <td>AB-100151402</td>\n",
       "      <td>Aaron Bergman</td>\n",
       "      <td>Consumer</td>\n",
       "      <td>73120.0</td>\n",
       "      <td>Oklahoma City</td>\n",
       "      <td>...</td>\n",
       "      <td>TEC-PH-5816</td>\n",
       "      <td>Technology</td>\n",
       "      <td>Phones</td>\n",
       "      <td>Samsung Convoy 3</td>\n",
       "      <td>221.98</td>\n",
       "      <td>2</td>\n",
       "      <td>0.0</td>\n",
       "      <td>62.15</td>\n",
       "      <td>40.77</td>\n",
       "      <td>High</td>\n",
       "    </tr>\n",
       "    <tr>\n",
       "      <th>1</th>\n",
       "      <td>26341</td>\n",
       "      <td>IN-2014-JR162107-41675</td>\n",
       "      <td>2014-02-05</td>\n",
       "      <td>2/7/14</td>\n",
       "      <td>Second Class</td>\n",
       "      <td>JR-162107</td>\n",
       "      <td>Justin Ritter</td>\n",
       "      <td>Corporate</td>\n",
       "      <td>NaN</td>\n",
       "      <td>Wollongong</td>\n",
       "      <td>...</td>\n",
       "      <td>FUR-CH-5379</td>\n",
       "      <td>Furniture</td>\n",
       "      <td>Chairs</td>\n",
       "      <td>Novimex Executive Leather Armchair, Black</td>\n",
       "      <td>3709.40</td>\n",
       "      <td>9</td>\n",
       "      <td>0.1</td>\n",
       "      <td>-288.77</td>\n",
       "      <td>923.63</td>\n",
       "      <td>Critical</td>\n",
       "    </tr>\n",
       "    <tr>\n",
       "      <th>2</th>\n",
       "      <td>25330</td>\n",
       "      <td>IN-2014-CR127307-41929</td>\n",
       "      <td>2014-10-17</td>\n",
       "      <td>10/18/14</td>\n",
       "      <td>First Class</td>\n",
       "      <td>CR-127307</td>\n",
       "      <td>Craig Reiter</td>\n",
       "      <td>Consumer</td>\n",
       "      <td>NaN</td>\n",
       "      <td>Brisbane</td>\n",
       "      <td>...</td>\n",
       "      <td>TEC-PH-5356</td>\n",
       "      <td>Technology</td>\n",
       "      <td>Phones</td>\n",
       "      <td>Nokia Smart Phone, with Caller ID</td>\n",
       "      <td>5175.17</td>\n",
       "      <td>9</td>\n",
       "      <td>0.1</td>\n",
       "      <td>919.97</td>\n",
       "      <td>915.49</td>\n",
       "      <td>Medium</td>\n",
       "    </tr>\n",
       "    <tr>\n",
       "      <th>3</th>\n",
       "      <td>13524</td>\n",
       "      <td>ES-2014-KM1637548-41667</td>\n",
       "      <td>2014-01-28</td>\n",
       "      <td>1/30/14</td>\n",
       "      <td>First Class</td>\n",
       "      <td>KM-1637548</td>\n",
       "      <td>Katherine Murray</td>\n",
       "      <td>Home Office</td>\n",
       "      <td>NaN</td>\n",
       "      <td>Berlin</td>\n",
       "      <td>...</td>\n",
       "      <td>TEC-PH-5267</td>\n",
       "      <td>Technology</td>\n",
       "      <td>Phones</td>\n",
       "      <td>Motorola Smart Phone, Cordless</td>\n",
       "      <td>2892.51</td>\n",
       "      <td>5</td>\n",
       "      <td>0.1</td>\n",
       "      <td>-96.54</td>\n",
       "      <td>910.16</td>\n",
       "      <td>Medium</td>\n",
       "    </tr>\n",
       "    <tr>\n",
       "      <th>4</th>\n",
       "      <td>47221</td>\n",
       "      <td>SG-2014-RH9495111-41948</td>\n",
       "      <td>2014-11-05</td>\n",
       "      <td>11/6/14</td>\n",
       "      <td>Same Day</td>\n",
       "      <td>RH-9495111</td>\n",
       "      <td>Rick Hansen</td>\n",
       "      <td>Consumer</td>\n",
       "      <td>NaN</td>\n",
       "      <td>Dakar</td>\n",
       "      <td>...</td>\n",
       "      <td>TEC-CO-6011</td>\n",
       "      <td>Technology</td>\n",
       "      <td>Copiers</td>\n",
       "      <td>Sharp Wireless Fax, High-Speed</td>\n",
       "      <td>2832.96</td>\n",
       "      <td>8</td>\n",
       "      <td>0.0</td>\n",
       "      <td>311.52</td>\n",
       "      <td>903.04</td>\n",
       "      <td>Critical</td>\n",
       "    </tr>\n",
       "  </tbody>\n",
       "</table>\n",
       "<p>5 rows × 24 columns</p>\n",
       "</div>"
      ],
      "text/plain": [
       "   Row.ID                  Order.ID Order.Date Ship.Date     Ship.Mode  \\\n",
       "0   40098  CA-2014-AB10015140-41954 2014-11-11  11/13/14   First Class   \n",
       "1   26341    IN-2014-JR162107-41675 2014-02-05    2/7/14  Second Class   \n",
       "2   25330    IN-2014-CR127307-41929 2014-10-17  10/18/14   First Class   \n",
       "3   13524   ES-2014-KM1637548-41667 2014-01-28   1/30/14   First Class   \n",
       "4   47221   SG-2014-RH9495111-41948 2014-11-05   11/6/14      Same Day   \n",
       "\n",
       "    Customer.ID     Customer.Name      Segment  Postal.Code           City  \\\n",
       "0  AB-100151402     Aaron Bergman     Consumer      73120.0  Oklahoma City   \n",
       "1     JR-162107     Justin Ritter    Corporate          NaN     Wollongong   \n",
       "2     CR-127307      Craig Reiter     Consumer          NaN       Brisbane   \n",
       "3    KM-1637548  Katherine Murray  Home Office          NaN         Berlin   \n",
       "4    RH-9495111       Rick Hansen     Consumer          NaN          Dakar   \n",
       "\n",
       "        ...         Product.ID    Category Sub.Category  \\\n",
       "0       ...        TEC-PH-5816  Technology       Phones   \n",
       "1       ...        FUR-CH-5379   Furniture       Chairs   \n",
       "2       ...        TEC-PH-5356  Technology       Phones   \n",
       "3       ...        TEC-PH-5267  Technology       Phones   \n",
       "4       ...        TEC-CO-6011  Technology      Copiers   \n",
       "\n",
       "                                Product.Name    Sales Quantity Discount  \\\n",
       "0                           Samsung Convoy 3   221.98        2      0.0   \n",
       "1  Novimex Executive Leather Armchair, Black  3709.40        9      0.1   \n",
       "2          Nokia Smart Phone, with Caller ID  5175.17        9      0.1   \n",
       "3             Motorola Smart Phone, Cordless  2892.51        5      0.1   \n",
       "4             Sharp Wireless Fax, High-Speed  2832.96        8      0.0   \n",
       "\n",
       "   Profit  Shipping.Cost  Order.Priority  \n",
       "0   62.15          40.77            High  \n",
       "1 -288.77         923.63        Critical  \n",
       "2  919.97         915.49          Medium  \n",
       "3  -96.54         910.16          Medium  \n",
       "4  311.52         903.04        Critical  \n",
       "\n",
       "[5 rows x 24 columns]"
      ]
     },
     "execution_count": 38,
     "metadata": {},
     "output_type": "execute_result"
    }
   ],
   "source": [
    "orders.head(5)"
   ]
  },
  {
   "cell_type": "markdown",
   "metadata": {},
   "source": [
    "Group by & Aggregate Sales & Quantity Variables by Month & Category."
   ]
  },
  {
   "cell_type": "code",
   "execution_count": 39,
   "metadata": {},
   "outputs": [],
   "source": [
    "df = orders.groupby(['Order.Date','Category']).agg({'Sales':sum}).reset_index()"
   ]
  },
  {
   "cell_type": "code",
   "execution_count": 40,
   "metadata": {},
   "outputs": [],
   "source": [
    "df['Month'] = [x.month for x in df['Order.Date']]"
   ]
  },
  {
   "cell_type": "code",
   "execution_count": 41,
   "metadata": {},
   "outputs": [],
   "source": [
    "df['Year'] = [x.year for x in df['Order.Date']]"
   ]
  },
  {
   "cell_type": "code",
   "execution_count": 42,
   "metadata": {},
   "outputs": [],
   "source": [
    "df1 = df.groupby(['Month','Category']).agg({'Sales':sum}).reset_index()"
   ]
  },
  {
   "cell_type": "code",
   "execution_count": 63,
   "metadata": {},
   "outputs": [
    {
     "data": {
      "text/html": [
       "<div>\n",
       "<style scoped>\n",
       "    .dataframe tbody tr th:only-of-type {\n",
       "        vertical-align: middle;\n",
       "    }\n",
       "\n",
       "    .dataframe tbody tr th {\n",
       "        vertical-align: top;\n",
       "    }\n",
       "\n",
       "    .dataframe thead th {\n",
       "        text-align: right;\n",
       "    }\n",
       "</style>\n",
       "<table border=\"1\" class=\"dataframe\">\n",
       "  <thead>\n",
       "    <tr style=\"text-align: right;\">\n",
       "      <th></th>\n",
       "      <th>Month</th>\n",
       "      <th>Category</th>\n",
       "      <th>Sales</th>\n",
       "    </tr>\n",
       "  </thead>\n",
       "  <tbody>\n",
       "    <tr>\n",
       "      <th>0</th>\n",
       "      <td>1</td>\n",
       "      <td>Furniture</td>\n",
       "      <td>228829.15</td>\n",
       "    </tr>\n",
       "    <tr>\n",
       "      <th>1</th>\n",
       "      <td>1</td>\n",
       "      <td>Office Supplies</td>\n",
       "      <td>222428.77</td>\n",
       "    </tr>\n",
       "    <tr>\n",
       "      <th>2</th>\n",
       "      <td>1</td>\n",
       "      <td>Technology</td>\n",
       "      <td>225531.38</td>\n",
       "    </tr>\n",
       "    <tr>\n",
       "      <th>3</th>\n",
       "      <td>2</td>\n",
       "      <td>Furniture</td>\n",
       "      <td>190255.60</td>\n",
       "    </tr>\n",
       "    <tr>\n",
       "      <th>4</th>\n",
       "      <td>2</td>\n",
       "      <td>Office Supplies</td>\n",
       "      <td>157169.49</td>\n",
       "    </tr>\n",
       "  </tbody>\n",
       "</table>\n",
       "</div>"
      ],
      "text/plain": [
       "   Month         Category      Sales\n",
       "0      1        Furniture  228829.15\n",
       "1      1  Office Supplies  222428.77\n",
       "2      1       Technology  225531.38\n",
       "3      2        Furniture  190255.60\n",
       "4      2  Office Supplies  157169.49"
      ]
     },
     "execution_count": 63,
     "metadata": {},
     "output_type": "execute_result"
    }
   ],
   "source": [
    "df1.head(5)   #Look at grouper so no need to make a column"
   ]
  },
  {
   "cell_type": "code",
   "execution_count": 43,
   "metadata": {},
   "outputs": [],
   "source": [
    "furnsales = df1[df1.Category=='Furniture'].Sales\n",
    "officesales = df1[df1.Category=='Office Supplies'].Sales\n",
    "techsales = df1[df1.Category=='Technology'].Sales"
   ]
  },
  {
   "cell_type": "code",
   "execution_count": 44,
   "metadata": {},
   "outputs": [
    {
     "data": {
      "text/plain": [
       "[1, 2, 3, 4, 5, 6, 7, 8, 9, 10, 11, 12]"
      ]
     },
     "execution_count": 44,
     "metadata": {},
     "output_type": "execute_result"
    }
   ],
   "source": [
    "mth = list(range(1,13))\n",
    "mth"
   ]
  },
  {
   "cell_type": "code",
   "execution_count": 45,
   "metadata": {},
   "outputs": [
    {
     "data": {
      "image/png": "[encoded data removed]",
      "text/plain": [
       "<Figure size 432x288 with 1 Axes>"
      ]
     },
     "metadata": {
      "needs_background": "light"
     },
     "output_type": "display_data"
    }
   ],
   "source": [
    "barwidth = 0.25\n",
    "r1 = mth\n",
    "r2 = [x + barwidth for x in r1]\n",
    "r3 = [x + barwidth for x in r2]\n",
    "plt.bar(r1,furnsales,color='red',width=barwidth,edgecolor='white',label='Furniture')\n",
    "plt.bar(r2,officesales,color='green',width=barwidth,edgecolor='white',label='Office Products')\n",
    "plt.bar(r3,techsales,color='blue',width=barwidth,edgecolor='white',label='Technology')\n",
    "\n",
    "plt.xlabel('Months',fontweight='bold')\n",
    "plt.xticks([r + barwidth for r in mth],mth)\n",
    "\n",
    "plt.legend()\n",
    "plt.show()"
   ]
  },
  {
   "cell_type": "code",
   "execution_count": 47,
   "metadata": {},
   "outputs": [],
   "source": [
    "dfquant = orders.groupby(['Order.Date','Category']).agg({'Quantity':sum}).reset_index()\n",
    "dfquant['Month'] = [x.month for x in dfquant['Order.Date']]\n",
    "dfquant['Year'] = [x.year for x in dfquant['Order.Date']]"
   ]
  },
  {
   "cell_type": "code",
   "execution_count": 48,
   "metadata": {},
   "outputs": [],
   "source": [
    "dfquant1 = dfquant.groupby(['Month','Category']).agg({'Quantity':sum}).reset_index()"
   ]
  },
  {
   "cell_type": "code",
   "execution_count": 49,
   "metadata": {},
   "outputs": [],
   "source": [
    "furnquant = dfquant1[dfquant1.Category=='Furniture'].Quantity\n",
    "officequant = dfquant1[dfquant1.Category=='Office Supplies'].Quantity\n",
    "techquant = dfquant1[dfquant1.Category=='Technology'].Quantity"
   ]
  },
  {
   "cell_type": "code",
   "execution_count": 50,
   "metadata": {},
   "outputs": [
    {
     "data": {
      "image/png": "[encoded data removed]",
      "text/plain": [
       "<Figure size 432x288 with 1 Axes>"
      ]
     },
     "metadata": {
      "needs_background": "light"
     },
     "output_type": "display_data"
    }
   ],
   "source": [
    "barwidth = 0.25\n",
    "r1 = mth\n",
    "r2 = [x + barwidth for x in r1]\n",
    "r3 = [x + barwidth for x in r2]\n",
    "plt.bar(r1,furnquant,color='red',width=barwidth,edgecolor='white',label='Furniture')\n",
    "plt.bar(r2,officequant,color='green',width=barwidth,edgecolor='white',label='Office Products')\n",
    "plt.bar(r3,techquant,color='blue',width=barwidth,edgecolor='white',label='Technology')\n",
    "\n",
    "plt.xlabel('Months',fontweight='bold')\n",
    "plt.xticks([r + barwidth for r in mth],mth)\n",
    "\n",
    "plt.legend()\n",
    "plt.show()"
   ]
  },
  {
   "cell_type": "code",
   "execution_count": 51,
   "metadata": {},
   "outputs": [
    {
     "data": {
      "text/html": [
       "<div>\n",
       "<style scoped>\n",
       "    .dataframe tbody tr th:only-of-type {\n",
       "        vertical-align: middle;\n",
       "    }\n",
       "\n",
       "    .dataframe tbody tr th {\n",
       "        vertical-align: top;\n",
       "    }\n",
       "\n",
       "    .dataframe thead th {\n",
       "        text-align: right;\n",
       "    }\n",
       "</style>\n",
       "<table border=\"1\" class=\"dataframe\">\n",
       "  <thead>\n",
       "    <tr style=\"text-align: right;\">\n",
       "      <th></th>\n",
       "      <th>Returned</th>\n",
       "      <th>Order ID</th>\n",
       "      <th>Region</th>\n",
       "    </tr>\n",
       "  </thead>\n",
       "  <tbody>\n",
       "    <tr>\n",
       "      <th>0</th>\n",
       "      <td>Yes</td>\n",
       "      <td>CA-2012-SA20830140-41210</td>\n",
       "      <td>Central US</td>\n",
       "    </tr>\n",
       "    <tr>\n",
       "      <th>1</th>\n",
       "      <td>Yes</td>\n",
       "      <td>IN-2012-PB19210127-41259</td>\n",
       "      <td>Eastern Asia</td>\n",
       "    </tr>\n",
       "    <tr>\n",
       "      <th>2</th>\n",
       "      <td>Yes</td>\n",
       "      <td>CA-2012-SC20095140-41174</td>\n",
       "      <td>Central US</td>\n",
       "    </tr>\n",
       "    <tr>\n",
       "      <th>3</th>\n",
       "      <td>Yes</td>\n",
       "      <td>IN-2015-JH158207-42140</td>\n",
       "      <td>Oceania</td>\n",
       "    </tr>\n",
       "    <tr>\n",
       "      <th>4</th>\n",
       "      <td>Yes</td>\n",
       "      <td>IN-2014-LC168857-41747</td>\n",
       "      <td>Oceania</td>\n",
       "    </tr>\n",
       "  </tbody>\n",
       "</table>\n",
       "</div>"
      ],
      "text/plain": [
       "  Returned                  Order ID        Region\n",
       "0      Yes  CA-2012-SA20830140-41210    Central US\n",
       "1      Yes  IN-2012-PB19210127-41259  Eastern Asia\n",
       "2      Yes  CA-2012-SC20095140-41174    Central US\n",
       "3      Yes    IN-2015-JH158207-42140       Oceania\n",
       "4      Yes    IN-2014-LC168857-41747       Oceania"
      ]
     },
     "execution_count": 51,
     "metadata": {},
     "output_type": "execute_result"
    }
   ],
   "source": [
    "returns.head(5)"
   ]
  },
  {
   "cell_type": "code",
   "execution_count": 52,
   "metadata": {},
   "outputs": [],
   "source": [
    "orders = orders.set_index(['Order.ID'])"
   ]
  },
  {
   "cell_type": "code",
   "execution_count": 53,
   "metadata": {},
   "outputs": [],
   "source": [
    "returns = returns.set_index(['Order ID'])"
   ]
  },
  {
   "cell_type": "code",
   "execution_count": 57,
   "metadata": {},
   "outputs": [],
   "source": [
    "ordersreturns = pd.merge(orders,returns,left_index=True,right_index=True)"
   ]
  },
  {
   "cell_type": "code",
   "execution_count": 81,
   "metadata": {},
   "outputs": [
    {
     "data": {
      "text/html": [
       "<div>\n",
       "<style scoped>\n",
       "    .dataframe tbody tr th:only-of-type {\n",
       "        vertical-align: middle;\n",
       "    }\n",
       "\n",
       "    .dataframe tbody tr th {\n",
       "        vertical-align: top;\n",
       "    }\n",
       "\n",
       "    .dataframe thead th {\n",
       "        text-align: right;\n",
       "    }\n",
       "</style>\n",
       "<table border=\"1\" class=\"dataframe\">\n",
       "  <thead>\n",
       "    <tr style=\"text-align: right;\">\n",
       "      <th></th>\n",
       "      <th>Order.ID</th>\n",
       "      <th>Row.ID</th>\n",
       "      <th>Order.Date</th>\n",
       "      <th>Ship.Date</th>\n",
       "      <th>Ship.Mode</th>\n",
       "      <th>Customer.ID</th>\n",
       "      <th>Customer.Name</th>\n",
       "      <th>Segment</th>\n",
       "      <th>Postal.Code</th>\n",
       "      <th>City</th>\n",
       "      <th>...</th>\n",
       "      <th>Product.Name</th>\n",
       "      <th>Sales</th>\n",
       "      <th>Quantity</th>\n",
       "      <th>Discount</th>\n",
       "      <th>Profit</th>\n",
       "      <th>Shipping.Cost</th>\n",
       "      <th>Order.Priority</th>\n",
       "      <th>Returned</th>\n",
       "      <th>Region_y</th>\n",
       "      <th>Year</th>\n",
       "    </tr>\n",
       "  </thead>\n",
       "  <tbody>\n",
       "    <tr>\n",
       "      <th>0</th>\n",
       "      <td>AE-2014-MY7380138-42004</td>\n",
       "      <td>48617</td>\n",
       "      <td>2014-12-31</td>\n",
       "      <td>1/3/15</td>\n",
       "      <td>Second Class</td>\n",
       "      <td>MY-7380138</td>\n",
       "      <td>Maribeth Yedwab</td>\n",
       "      <td>Corporate</td>\n",
       "      <td>NaN</td>\n",
       "      <td>Ras al Khaymah</td>\n",
       "      <td>...</td>\n",
       "      <td>Tenex Folders, Blue</td>\n",
       "      <td>6.97</td>\n",
       "      <td>1</td>\n",
       "      <td>0.7</td>\n",
       "      <td>-8.60</td>\n",
       "      <td>1.75</td>\n",
       "      <td>High</td>\n",
       "      <td>Yes</td>\n",
       "      <td>Western Asia</td>\n",
       "      <td>2014</td>\n",
       "    </tr>\n",
       "    <tr>\n",
       "      <th>1</th>\n",
       "      <td>AE-2014-MY7380138-42004</td>\n",
       "      <td>48618</td>\n",
       "      <td>2014-12-31</td>\n",
       "      <td>1/3/15</td>\n",
       "      <td>Second Class</td>\n",
       "      <td>MY-7380138</td>\n",
       "      <td>Maribeth Yedwab</td>\n",
       "      <td>Corporate</td>\n",
       "      <td>NaN</td>\n",
       "      <td>Ras al Khaymah</td>\n",
       "      <td>...</td>\n",
       "      <td>Stiletto Letter Opener, High Speed</td>\n",
       "      <td>16.67</td>\n",
       "      <td>2</td>\n",
       "      <td>0.7</td>\n",
       "      <td>-29.47</td>\n",
       "      <td>1.41</td>\n",
       "      <td>High</td>\n",
       "      <td>Yes</td>\n",
       "      <td>Western Asia</td>\n",
       "      <td>2014</td>\n",
       "    </tr>\n",
       "    <tr>\n",
       "      <th>2</th>\n",
       "      <td>AG-2013-PO88653-41634</td>\n",
       "      <td>48662</td>\n",
       "      <td>2013-12-26</td>\n",
       "      <td>12/30/13</td>\n",
       "      <td>Standard Class</td>\n",
       "      <td>PO-88653</td>\n",
       "      <td>Patrick O'Donnell</td>\n",
       "      <td>Consumer</td>\n",
       "      <td>NaN</td>\n",
       "      <td>Guelma</td>\n",
       "      <td>...</td>\n",
       "      <td>Hewlett Fax Machine, High-Speed</td>\n",
       "      <td>1908.72</td>\n",
       "      <td>6</td>\n",
       "      <td>0.0</td>\n",
       "      <td>190.80</td>\n",
       "      <td>169.70</td>\n",
       "      <td>High</td>\n",
       "      <td>Yes</td>\n",
       "      <td>North Africa</td>\n",
       "      <td>2013</td>\n",
       "    </tr>\n",
       "    <tr>\n",
       "      <th>3</th>\n",
       "      <td>AG-2013-PO88653-41634</td>\n",
       "      <td>48661</td>\n",
       "      <td>2013-12-26</td>\n",
       "      <td>12/30/13</td>\n",
       "      <td>Standard Class</td>\n",
       "      <td>PO-88653</td>\n",
       "      <td>Patrick O'Donnell</td>\n",
       "      <td>Consumer</td>\n",
       "      <td>NaN</td>\n",
       "      <td>Guelma</td>\n",
       "      <td>...</td>\n",
       "      <td>Sanford Markers, Easy-Erase</td>\n",
       "      <td>23.52</td>\n",
       "      <td>1</td>\n",
       "      <td>0.0</td>\n",
       "      <td>0.45</td>\n",
       "      <td>2.69</td>\n",
       "      <td>High</td>\n",
       "      <td>Yes</td>\n",
       "      <td>North Africa</td>\n",
       "      <td>2013</td>\n",
       "    </tr>\n",
       "    <tr>\n",
       "      <th>4</th>\n",
       "      <td>AG-2014-CM21603-41755</td>\n",
       "      <td>42400</td>\n",
       "      <td>2014-04-26</td>\n",
       "      <td>5/1/14</td>\n",
       "      <td>Standard Class</td>\n",
       "      <td>CM-21603</td>\n",
       "      <td>Charles McCrossin</td>\n",
       "      <td>Consumer</td>\n",
       "      <td>NaN</td>\n",
       "      <td>Algiers</td>\n",
       "      <td>...</td>\n",
       "      <td>Kleencut Trimmer, Easy Grip</td>\n",
       "      <td>43.05</td>\n",
       "      <td>1</td>\n",
       "      <td>0.0</td>\n",
       "      <td>10.32</td>\n",
       "      <td>1.28</td>\n",
       "      <td>Medium</td>\n",
       "      <td>Yes</td>\n",
       "      <td>North Africa</td>\n",
       "      <td>2014</td>\n",
       "    </tr>\n",
       "  </tbody>\n",
       "</table>\n",
       "<p>5 rows × 27 columns</p>\n",
       "</div>"
      ],
      "text/plain": [
       "                  Order.ID  Row.ID Order.Date Ship.Date       Ship.Mode  \\\n",
       "0  AE-2014-MY7380138-42004   48617 2014-12-31    1/3/15    Second Class   \n",
       "1  AE-2014-MY7380138-42004   48618 2014-12-31    1/3/15    Second Class   \n",
       "2    AG-2013-PO88653-41634   48662 2013-12-26  12/30/13  Standard Class   \n",
       "3    AG-2013-PO88653-41634   48661 2013-12-26  12/30/13  Standard Class   \n",
       "4    AG-2014-CM21603-41755   42400 2014-04-26    5/1/14  Standard Class   \n",
       "\n",
       "  Customer.ID      Customer.Name    Segment  Postal.Code            City  \\\n",
       "0  MY-7380138    Maribeth Yedwab  Corporate          NaN  Ras al Khaymah   \n",
       "1  MY-7380138    Maribeth Yedwab  Corporate          NaN  Ras al Khaymah   \n",
       "2    PO-88653  Patrick O'Donnell   Consumer          NaN          Guelma   \n",
       "3    PO-88653  Patrick O'Donnell   Consumer          NaN          Guelma   \n",
       "4    CM-21603  Charles McCrossin   Consumer          NaN         Algiers   \n",
       "\n",
       "   ...                         Product.Name    Sales Quantity Discount  \\\n",
       "0  ...                  Tenex Folders, Blue     6.97        1      0.7   \n",
       "1  ...   Stiletto Letter Opener, High Speed    16.67        2      0.7   \n",
       "2  ...      Hewlett Fax Machine, High-Speed  1908.72        6      0.0   \n",
       "3  ...          Sanford Markers, Easy-Erase    23.52        1      0.0   \n",
       "4  ...          Kleencut Trimmer, Easy Grip    43.05        1      0.0   \n",
       "\n",
       "   Profit Shipping.Cost Order.Priority Returned      Region_y  Year  \n",
       "0   -8.60          1.75           High      Yes  Western Asia  2014  \n",
       "1  -29.47          1.41           High      Yes  Western Asia  2014  \n",
       "2  190.80        169.70           High      Yes  North Africa  2013  \n",
       "3    0.45          2.69           High      Yes  North Africa  2013  \n",
       "4   10.32          1.28         Medium      Yes  North Africa  2014  \n",
       "\n",
       "[5 rows x 27 columns]"
      ]
     },
     "execution_count": 81,
     "metadata": {},
     "output_type": "execute_result"
    }
   ],
   "source": [
    "ordersreturns=ordersreturns.reset_index().rename(columns = {'index':'Order.ID'})\n",
    "ordersreturns.head(5)"
   ]
  },
  {
   "cell_type": "markdown",
   "metadata": {},
   "source": [
    "How much profit has been lost on returns?  sum the profit column for returned items."
   ]
  },
  {
   "cell_type": "code",
   "execution_count": 59,
   "metadata": {},
   "outputs": [
    {
     "data": {
      "text/plain": [
       "61370.75000000006"
      ]
     },
     "execution_count": 59,
     "metadata": {},
     "output_type": "execute_result"
    }
   ],
   "source": [
    "sum(ordersreturns.Profit)"
   ]
  },
  {
   "cell_type": "code",
   "execution_count": 65,
   "metadata": {},
   "outputs": [],
   "source": [
    "ordersreturns['Year'] = [x.year for x in ordersreturns['Order.Date']]"
   ]
  },
  {
   "cell_type": "code",
   "execution_count": 68,
   "metadata": {},
   "outputs": [
    {
     "data": {
      "text/plain": [
       "(2220, 26)"
      ]
     },
     "execution_count": 68,
     "metadata": {},
     "output_type": "execute_result"
    }
   ],
   "source": [
    "ordersreturns.shape"
   ]
  },
  {
   "cell_type": "markdown",
   "metadata": {},
   "source": [
    "Number of Unique Customers Who Returned Items, as measured by Unique Customer ID#"
   ]
  },
  {
   "cell_type": "code",
   "execution_count": 60,
   "metadata": {},
   "outputs": [
    {
     "data": {
      "text/plain": [
       "1061"
      ]
     },
     "execution_count": 60,
     "metadata": {},
     "output_type": "execute_result"
    }
   ],
   "source": [
    "ordersreturns['Customer.ID'].nunique()"
   ]
  },
  {
   "cell_type": "markdown",
   "metadata": {},
   "source": [
    "Customers who returned 5x or more - value counts"
   ]
  },
  {
   "cell_type": "code",
   "execution_count": 86,
   "metadata": {},
   "outputs": [],
   "source": [
    "customercounts = ordersreturns['Customer.ID'].value_counts() "
   ]
  },
  {
   "cell_type": "code",
   "execution_count": 87,
   "metadata": {},
   "outputs": [
    {
     "data": {
      "text/plain": [
       "80"
      ]
     },
     "execution_count": 87,
     "metadata": {},
     "output_type": "execute_result"
    }
   ],
   "source": [
    "(customercounts[customercounts >4]).count()"
   ]
  },
  {
   "cell_type": "code",
   "execution_count": 83,
   "metadata": {},
   "outputs": [
    {
     "data": {
      "text/plain": [
       "Office Supplies    1348\n",
       "Technology          445\n",
       "Furniture           427\n",
       "Name: Category, dtype: int64"
      ]
     },
     "execution_count": 83,
     "metadata": {},
     "output_type": "execute_result"
    }
   ],
   "source": [
    "ordersreturns.Category.value_counts()"
   ]
  },
  {
   "cell_type": "code",
   "execution_count": 88,
   "metadata": {},
   "outputs": [],
   "source": [
    "count_returns = ordersreturns.groupby(['Customer.Name']).count()['Sales']"
   ]
  },
  {
   "cell_type": "code",
   "execution_count": 91,
   "metadata": {},
   "outputs": [
    {
     "data": {
      "text/plain": [
       "593"
      ]
     },
     "execution_count": 91,
     "metadata": {},
     "output_type": "execute_result"
    }
   ],
   "source": [
    "sum(count_returns >= 1)"
   ]
  },
  {
   "cell_type": "code",
   "execution_count": 95,
   "metadata": {},
   "outputs": [
    {
     "data": {
      "text/plain": [
       "Central America      248\n",
       "Western Europe       233\n",
       "Western US           180\n",
       "Oceania              154\n",
       "Southeastern Asia    140\n",
       "Eastern US           134\n",
       "South America        133\n",
       "Eastern Asia         131\n",
       "Southern Europe      112\n",
       "Southern Asia        111\n",
       "Western Asia         108\n",
       "Southern US           83\n",
       "Northern Europe       76\n",
       "Central US            71\n",
       "Caribbean             69\n",
       "Western Africa        60\n",
       "North Africa          51\n",
       "Eastern Europe        42\n",
       "Southern Africa       25\n",
       "Eastern Africa        18\n",
       "Central Africa        17\n",
       "Eastern Canada        10\n",
       "Central Asia           9\n",
       "Western Canada         5\n",
       "Name: Region_y, dtype: int64"
      ]
     },
     "execution_count": 95,
     "metadata": {},
     "output_type": "execute_result"
    }
   ],
   "source": [
    "ordersreturns.Region_y.value_counts()"
   ]
  },
  {
   "cell_type": "code",
   "execution_count": 96,
   "metadata": {},
   "outputs": [
    {
     "data": {
      "text/plain": [
       "Index(['Order.ID', 'Row.ID', 'Order.Date', 'Ship.Date', 'Ship.Mode',\n",
       "       'Customer.ID', 'Customer.Name', 'Segment', 'Postal.Code', 'City',\n",
       "       'State', 'Country', 'Region_x', 'Market', 'Product.ID', 'Category',\n",
       "       'Sub.Category', 'Product.Name', 'Sales', 'Quantity', 'Discount',\n",
       "       'Profit', 'Shipping.Cost', 'Order.Priority', 'Returned', 'Region_y',\n",
       "       'Year'],\n",
       "      dtype='object')"
      ]
     },
     "execution_count": 96,
     "metadata": {},
     "output_type": "execute_result"
    }
   ],
   "source": [
    "ordersreturns.columns"
   ]
  },
  {
   "cell_type": "code",
   "execution_count": null,
   "metadata": {},
   "outputs": [],
   "source": []
  }
 ],
 "metadata": {
  "kernelspec": {
   "display_name": "Python 3",
   "language": "python",
   "name": "python3"
  },
  "language_info": {
   "codemirror_mode": {
    "name": "ipython",
    "version": 3
   },
   "file_extension": ".py",
   "mimetype": "text/x-python",
   "name": "python",
   "nbconvert_exporter": "python",
   "pygments_lexer": "ipython3",
   "version": "3.7.2"
  }
 },
 "nbformat": 4,
 "nbformat_minor": 2
}
